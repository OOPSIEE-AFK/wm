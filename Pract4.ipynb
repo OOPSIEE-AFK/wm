{
 "cells": [
  {
   "cell_type": "code",
   "execution_count": 2,
   "id": "35c6a804-97db-4b6d-be19-68f4973b9fc4",
   "metadata": {},
   "outputs": [
    {
     "name": "stdout",
     "output_type": "stream",
     "text": [
      "TF-IDF weights for document 0 :\n",
      "this: 0.3322110871696405\n",
      "is: 0.25799154486720605\n",
      "the: 0.3322110871696405\n",
      "first: 0.43681765680021456\n",
      "document: 0.3322110871696405\n",
      "with: 0.3322110871696405\n",
      "specific: 0.43681765680021456\n",
      "term: 0.3322110871696405\n"
     ]
    }
   ],
   "source": [
    "from sklearn.feature_extraction.text import TfidfVectorizer \n",
    "# Example raw text data (list of documents) \n",
    "raw_text_data = [ \n",
    "    \"This is the first document with a specific term.\", \n",
    "    \"Second document is here with another term.\", \n",
    "    \"And this is the third one.\"] \n",
    "# Index of the document to retrieve term weights from \n",
    "doc_index = 0 \n",
    "# Create TF-IDF vectorizer \n",
    "vectorizer = TfidfVectorizer() \n",
    "X = vectorizer.fit_transform(raw_text_data)\n",
    "# Get feature names (terms) feature_names = vectorizer.get_feature_names() \n",
    "#Updated to get_feature_names_out() \n",
    "feature_names = vectorizer.get_feature_names_out() \n",
    "# Get TF-IDF weights for the specified document \n",
    "doc_vector = X[doc_index] \n",
    "term_weights = {feature_names[i]: doc_vector[0, i] for i in doc_vector.indices} \n",
    "print(\"TF-IDF weights for document\", doc_index, \":\") \n",
    "for term, weight in term_weights.items():\n",
    "      print(f\"{term}: {weight}\")"
   ]
  },
  {
   "cell_type": "code",
   "execution_count": null,
   "id": "a0aa4168-e871-49d5-9693-eb8fc4defc68",
   "metadata": {},
   "outputs": [],
   "source": []
  }
 ],
 "metadata": {
  "kernelspec": {
   "display_name": "Python 3 (ipykernel)",
   "language": "python",
   "name": "python3"
  },
  "language_info": {
   "codemirror_mode": {
    "name": "ipython",
    "version": 3
   },
   "file_extension": ".py",
   "mimetype": "text/x-python",
   "name": "python",
   "nbconvert_exporter": "python",
   "pygments_lexer": "ipython3",
   "version": "3.11.9"
  }
 },
 "nbformat": 4,
 "nbformat_minor": 5
}
