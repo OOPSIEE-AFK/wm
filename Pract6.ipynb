{
 "cells": [
  {
   "cell_type": "markdown",
   "id": "f148061b-271c-4734-9166-55865dcb47be",
   "metadata": {},
   "source": [
    "# Practical 6"
   ]
  },
  {
   "cell_type": "code",
   "execution_count": 1,
   "id": "41db31ce-83fc-44f7-82b1-dd2922d1d5c0",
   "metadata": {},
   "outputs": [
    {
     "name": "stdout",
     "output_type": "stream",
     "text": [
      "Requirement already satisfied: Textblob in c:\\users\\nandanam\\appdata\\local\\programs\\python\\python311\\lib\\site-packages (0.18.0.post0)\n",
      "Requirement already satisfied: nltk>=3.8 in c:\\users\\nandanam\\appdata\\local\\programs\\python\\python311\\lib\\site-packages (from Textblob) (3.9.1)\n",
      "Requirement already satisfied: click in c:\\users\\nandanam\\appdata\\local\\programs\\python\\python311\\lib\\site-packages (from nltk>=3.8->Textblob) (8.1.7)\n",
      "Requirement already satisfied: joblib in c:\\users\\nandanam\\appdata\\local\\programs\\python\\python311\\lib\\site-packages (from nltk>=3.8->Textblob) (1.4.2)\n",
      "Requirement already satisfied: regex>=2021.8.3 in c:\\users\\nandanam\\appdata\\local\\programs\\python\\python311\\lib\\site-packages (from nltk>=3.8->Textblob) (2024.7.24)\n",
      "Requirement already satisfied: tqdm in c:\\users\\nandanam\\appdata\\local\\programs\\python\\python311\\lib\\site-packages (from nltk>=3.8->Textblob) (4.66.5)\n",
      "Requirement already satisfied: colorama in c:\\users\\nandanam\\appdata\\local\\programs\\python\\python311\\lib\\site-packages (from click->nltk>=3.8->Textblob) (0.4.6)\n",
      "Note: you may need to restart the kernel to use updated packages.\n"
     ]
    }
   ],
   "source": [
    "pip install Textblob "
   ]
  },
  {
   "cell_type": "code",
   "execution_count": 1,
   "id": "697dbadb-bd50-4107-9169-cc778cc93172",
   "metadata": {},
   "outputs": [
    {
     "name": "stdout",
     "output_type": "stream",
     "text": [
      "Requirement already satisfied: Vader in c:\\users\\nandanam\\appdata\\local\\programs\\python\\python311\\lib\\site-packages (0.0.3)\n",
      "Requirement already satisfied: scikit-learn in c:\\users\\nandanam\\appdata\\local\\programs\\python\\python311\\lib\\site-packages (from Vader) (1.5.1)\n",
      "Requirement already satisfied: numpy in c:\\users\\nandanam\\appdata\\local\\programs\\python\\python311\\lib\\site-packages (from Vader) (2.0.1)\n",
      "Requirement already satisfied: scipy in c:\\users\\nandanam\\appdata\\local\\programs\\python\\python311\\lib\\site-packages (from Vader) (1.14.0)\n",
      "Requirement already satisfied: sonopy in c:\\users\\nandanam\\appdata\\local\\programs\\python\\python311\\lib\\site-packages (from Vader) (0.1.2)\n",
      "Requirement already satisfied: joblib>=1.2.0 in c:\\users\\nandanam\\appdata\\local\\programs\\python\\python311\\lib\\site-packages (from scikit-learn->Vader) (1.4.2)\n",
      "Requirement already satisfied: threadpoolctl>=3.1.0 in c:\\users\\nandanam\\appdata\\local\\programs\\python\\python311\\lib\\site-packages (from scikit-learn->Vader) (3.5.0)\n",
      "Note: you may need to restart the kernel to use updated packages.\n"
     ]
    }
   ],
   "source": [
    "pip install Vader "
   ]
  },
  {
   "cell_type": "code",
   "execution_count": 1,
   "id": "0ddec5d4-7156-4c9c-ac05-eba8ad24e75b",
   "metadata": {},
   "outputs": [
    {
     "name": "stdout",
     "output_type": "stream",
     "text": [
      "Sample Text: I HATE IT\n",
      "Sentiment: negative\n"
     ]
    }
   ],
   "source": [
    "from textblob import TextBlob \n",
    "def get_sentiment(text): \n",
    "    blob = TextBlob(text) \n",
    "    sentiment_polarity=blob.sentiment.polarity \n",
    "    if sentiment_polarity>0: \n",
    "        return 'positive' \n",
    "    elif sentiment_polarity<0: \n",
    "        return 'negative' \n",
    "    else: \n",
    "        return 'neutral' \n",
    "if __name__ ==\"__main__\": \n",
    "    sample_text = \"I HATE IT\" \n",
    "    sentiment = get_sentiment(sample_text) \n",
    "    print (f\"Sample Text: {sample_text}\") \n",
    "print (f\"Sentiment: {sentiment}\")"
   ]
  },
  {
   "cell_type": "markdown",
   "id": "1cb6dd90-dfa0-40f8-8b80-d77f96188abb",
   "metadata": {},
   "source": [
    "<!-- Pract 6 hindi -->"
   ]
  },
  {
   "cell_type": "code",
   "execution_count": 2,
   "id": "73473a1f-acef-496e-be3c-5b10962f7e36",
   "metadata": {},
   "outputs": [
    {
     "name": "stdout",
     "output_type": "stream",
     "text": [
      "Requirement already satisfied: deep_translator in c:\\users\\nandanam\\appdata\\local\\programs\\python\\python311\\lib\\site-packages (1.11.4)Note: you may need to restart the kernel to use updated packages.\n",
      "\n",
      "Requirement already satisfied: beautifulsoup4<5.0.0,>=4.9.1 in c:\\users\\nandanam\\appdata\\local\\programs\\python\\python311\\lib\\site-packages (from deep_translator) (4.12.3)\n",
      "Requirement already satisfied: requests<3.0.0,>=2.23.0 in c:\\users\\nandanam\\appdata\\local\\programs\\python\\python311\\lib\\site-packages (from deep_translator) (2.32.3)\n",
      "Requirement already satisfied: soupsieve>1.2 in c:\\users\\nandanam\\appdata\\local\\programs\\python\\python311\\lib\\site-packages (from beautifulsoup4<5.0.0,>=4.9.1->deep_translator) (2.5)\n",
      "Requirement already satisfied: charset-normalizer<4,>=2 in c:\\users\\nandanam\\appdata\\local\\programs\\python\\python311\\lib\\site-packages (from requests<3.0.0,>=2.23.0->deep_translator) (3.3.2)\n",
      "Requirement already satisfied: idna<4,>=2.5 in c:\\users\\nandanam\\appdata\\local\\programs\\python\\python311\\lib\\site-packages (from requests<3.0.0,>=2.23.0->deep_translator) (3.7)\n",
      "Requirement already satisfied: urllib3<3,>=1.21.1 in c:\\users\\nandanam\\appdata\\local\\programs\\python\\python311\\lib\\site-packages (from requests<3.0.0,>=2.23.0->deep_translator) (2.2.2)\n",
      "Requirement already satisfied: certifi>=2017.4.17 in c:\\users\\nandanam\\appdata\\local\\programs\\python\\python311\\lib\\site-packages (from requests<3.0.0,>=2.23.0->deep_translator) (2024.7.4)\n"
     ]
    }
   ],
   "source": [
    "pip install deep_translator "
   ]
  },
  {
   "cell_type": "code",
   "execution_count": 3,
   "id": "e09214b0-be46-4b43-8d6d-1f30fbc7a8d8",
   "metadata": {},
   "outputs": [
    {
     "name": "stdout",
     "output_type": "stream",
     "text": [
      "Requirement already satisfied: vaderSentiment in c:\\users\\nandanam\\appdata\\local\\programs\\python\\python311\\lib\\site-packages (3.3.2)\n",
      "Requirement already satisfied: requests in c:\\users\\nandanam\\appdata\\local\\programs\\python\\python311\\lib\\site-packages (from vaderSentiment) (2.32.3)\n",
      "Requirement already satisfied: charset-normalizer<4,>=2 in c:\\users\\nandanam\\appdata\\local\\programs\\python\\python311\\lib\\site-packages (from requests->vaderSentiment) (3.3.2)\n",
      "Requirement already satisfied: idna<4,>=2.5 in c:\\users\\nandanam\\appdata\\local\\programs\\python\\python311\\lib\\site-packages (from requests->vaderSentiment) (3.7)\n",
      "Requirement already satisfied: urllib3<3,>=1.21.1 in c:\\users\\nandanam\\appdata\\local\\programs\\python\\python311\\lib\\site-packages (from requests->vaderSentiment) (2.2.2)\n",
      "Requirement already satisfied: certifi>=2017.4.17 in c:\\users\\nandanam\\appdata\\local\\programs\\python\\python311\\lib\\site-packages (from requests->vaderSentiment) (2024.7.4)\n",
      "Note: you may need to restart the kernel to use updated packages.\n"
     ]
    }
   ],
   "source": [
    "pip install vaderSentiment "
   ]
  },
  {
   "cell_type": "code",
   "execution_count": 4,
   "id": "78e3d17a-c60f-4f9f-976c-5c54d01a740c",
   "metadata": {},
   "outputs": [
    {
     "name": "stdout",
     "output_type": "stream",
     "text": [
      "\n",
      " Translated Sentence= India, known as the land of diversity, is known throughout the world for its proven culture and traditions. \n",
      " Dictionary= {'neg': 0.0, 'neu': 1.0, 'pos': 0.0, 'compound': 0.0}\n",
      "It is -ve Sentence\n",
      "\n",
      " Translated Sentence= is famous in. Indian culture is not only limited to customs and festivals but it also has \n",
      " Dictionary= {'neg': 0.0, 'neu': 0.83, 'pos': 0.17, 'compound': 0.2693}\n",
      "It is +ve Sentence\n",
      "\n",
      " Translated Sentence= Art, music, dance, literature, and spirituality also have an important place. \n",
      " Dictionary= {'neg': 0.0, 'neu': 0.847, 'pos': 0.153, 'compound': 0.2023}\n",
      "It is +ve Sentence\n"
     ]
    }
   ],
   "source": [
    "import codecs \n",
    "from deep_translator import GoogleTranslator \n",
    "from vaderSentiment.vaderSentiment import SentimentIntensityAnalyzer \n",
    "with codecs.open('hindi.txt',encoding='utf-8')as f: \n",
    "    sentences = f.readlines()    \n",
    "for sentence in sentences: \n",
    "    translated_txt = GoogleTranslator(source='auto',target='en').translate(sentence) \n",
    "    #print(translated_text) \n",
    "    analyzer = SentimentIntensityAnalyzer() \n",
    "    sentiment_dict = analyzer.polarity_scores(translated_txt)    \n",
    "    print(\"\\n Translated Sentence=\", translated_txt, \"\\n Dictionary=\", sentiment_dict) \n",
    "    if sentiment_dict['compound']>=0.05: \n",
    "        print(\"It is +ve Sentence\")        \n",
    "    elif sentiment_dict['compound']<=0.05: \n",
    "         print(\"It is -ve Sentence\")        \n",
    "    else: \n",
    "         print(\"It is Neutral Sentence\")"
   ]
  },
  {
   "cell_type": "code",
   "execution_count": null,
   "id": "a74ace31-5e18-4b2c-a64e-7f2bfb088cf3",
   "metadata": {},
   "outputs": [],
   "source": []
  }
 ],
 "metadata": {
  "kernelspec": {
   "display_name": "Python 3 (ipykernel)",
   "language": "python",
   "name": "python3"
  },
  "language_info": {
   "codemirror_mode": {
    "name": "ipython",
    "version": 3
   },
   "file_extension": ".py",
   "mimetype": "text/x-python",
   "name": "python",
   "nbconvert_exporter": "python",
   "pygments_lexer": "ipython3",
   "version": "3.11.9"
  }
 },
 "nbformat": 4,
 "nbformat_minor": 5
}
