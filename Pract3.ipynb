{
 "cells": [
  {
   "cell_type": "code",
   "execution_count": 2,
   "id": "2d26022f-876c-4cd6-aba9-d34ef8f04de9",
   "metadata": {},
   "outputs": [
    {
     "name": "stdout",
     "output_type": "stream",
     "text": [
      "[[ 0.74399358 -0.30517807]\n",
      " [ 0.75549857 -0.24094497]\n",
      " [ 0.46160197  0.88622695]]\n"
     ]
    }
   ],
   "source": [
    "from sklearn.feature_extraction.text import TfidfVectorizer \n",
    "from sklearn.decomposition import TruncatedSVD \n",
    "# Example raw text data (list of documents) \n",
    "raw_text_data = [\"Machine learning is super fun\", \n",
    "\"Python is super cool\", \n",
    "\"Data Science is tough\" ]\n",
    "# Create TF-IDF matrix \n",
    "X = TfidfVectorizer().fit_transform(raw_text_data) \n",
    "# Apply LSA \n",
    "lsa = TruncatedSVD(n_components=2) \n",
    "lsa_matrix = lsa.fit_transform(X) \n",
    "print(lsa_matrix)"
   ]
  },
  {
   "cell_type": "code",
   "execution_count": null,
   "id": "7f552021-95da-47db-a3f8-db2bdd412c7f",
   "metadata": {},
   "outputs": [],
   "source": []
  }
 ],
 "metadata": {
  "kernelspec": {
   "display_name": "Python 3 (ipykernel)",
   "language": "python",
   "name": "python3"
  },
  "language_info": {
   "codemirror_mode": {
    "name": "ipython",
    "version": 3
   },
   "file_extension": ".py",
   "mimetype": "text/x-python",
   "name": "python",
   "nbconvert_exporter": "python",
   "pygments_lexer": "ipython3",
   "version": "3.11.9"
  }
 },
 "nbformat": 4,
 "nbformat_minor": 5
}
