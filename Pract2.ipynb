{
 "cells": [
  {
   "cell_type": "code",
   "execution_count": 1,
   "id": "cb65a0d1-6b97-494a-af5f-42b9ee21e8f3",
   "metadata": {},
   "outputs": [
    {
     "name": "stdout",
     "output_type": "stream",
     "text": [
      "{'This': {0}, 'is': {0, 1, 2}, 'the': {0, 2}, 'first': {0}, 'document.': {0}, 'Second': {1}, 'document': {1}, 'here.': {1}, 'And': {2}, 'this': {2}, 'third': {2}, 'one.': {2}}\n"
     ]
    }
   ],
   "source": [
    "from collections import defaultdict \n",
    "def create_inverted_index(documents): \n",
    "    inverted_index = defaultdict(set) \n",
    "    for doc_id, text in enumerate(documents): \n",
    "        for word in text.split(): \n",
    "            inverted_index[word].add(doc_id) \n",
    "    return inverted_index \n",
    "# Example usage: \n",
    "documents = [ \n",
    "    \"This is the first document.\", \n",
    "    \"Second document is here.\", \n",
    "    \"And this is the third one.\"] \n",
    "inverted_index = create_inverted_index(documents) \n",
    "print(dict(inverted_index))"
   ]
  },
  {
   "cell_type": "code",
   "execution_count": null,
   "id": "5c8859dd-8df0-4ff6-97b6-a0b9a7c7ccdf",
   "metadata": {},
   "outputs": [],
   "source": []
  }
 ],
 "metadata": {
  "kernelspec": {
   "display_name": "Python 3 (ipykernel)",
   "language": "python",
   "name": "python3"
  },
  "language_info": {
   "codemirror_mode": {
    "name": "ipython",
    "version": 3
   },
   "file_extension": ".py",
   "mimetype": "text/x-python",
   "name": "python",
   "nbconvert_exporter": "python",
   "pygments_lexer": "ipython3",
   "version": "3.11.9"
  }
 },
 "nbformat": 4,
 "nbformat_minor": 5
}
